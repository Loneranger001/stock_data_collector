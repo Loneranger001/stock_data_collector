{
 "cells": [
  {
   "cell_type": "code",
   "execution_count": 33,
   "id": "88dbf98a",
   "metadata": {},
   "outputs": [
    {
     "data": {
      "text/plain": [
       "Symbol         object\n",
       "Name           object\n",
       "Last Sale      object\n",
       "Net Change    float64\n",
       "% Change       object\n",
       "Market Cap    float64\n",
       "Country        object\n",
       "IPO Year      float64\n",
       "Volume          int64\n",
       "Sector         object\n",
       "Industry       object\n",
       "dtype: object"
      ]
     },
     "execution_count": 33,
     "metadata": {},
     "output_type": "execute_result"
    }
   ],
   "source": [
    "import pandas as pd\n",
    "\n",
    "df = pd.read_csv(\"data/nasdaq_screener_1743382889678.csv\")\n",
    "\n",
    "df.dtypes"
   ]
  },
  {
   "cell_type": "code",
   "execution_count": null,
   "id": "339fe57e",
   "metadata": {},
   "outputs": [
    {
     "name": "stdout",
     "output_type": "stream",
     "text": [
      "[{'Symbol': 'AACBU', 'Name': 'Artius II Acquisition Inc. Units', 'Country': 'United States', 'Sector': 'Finance', 'Industry': 'Blank Checks', 'created_date': Timestamp('2025-04-07 20:20:19.611552'), 'last_update_date': Timestamp('2025-04-07 20:20:19.611552'), 'create_id': 'ONE_TIME_LOAD'}, {'Symbol': 'AAL', 'Name': 'American Airlines Group Inc. Common Stock', 'Country': 'United States', 'Sector': 'Consumer Discretionary', 'Industry': 'Air Freight/Delivery Services', 'created_date': Timestamp('2025-04-07 20:20:19.611552'), 'last_update_date': Timestamp('2025-04-07 20:20:19.611552'), 'create_id': 'ONE_TIME_LOAD'}]\n",
      "number of rows inserted 2\n"
     ]
    }
   ],
   "source": [
    "from sqlalchemy import create_engine, Table, Column, String, Date, BigInteger, MetaData\n",
    "import os\n",
    "from datetime import datetime\n",
    "\n",
    "username = os.environ.get(\"AZURE_SQL_USER\")\n",
    "password = os.environ.get(\"AZURE_SQL_PASSWORD\")\n",
    "server   = os.environ.get(\"AZURE_SQL_SERVER\")\n",
    "database = os.environ.get(\"AZURE_SQL_DB\")\n",
    "\n",
    "def clean_df(df):\n",
    "    df = df.where(pd.notnull(df), 0)\n",
    "    return df\n",
    "\n",
    "metadata = MetaData()\n",
    "all_listed_stocks = Table(\"all_listed_stocks\",metadata,\n",
    "                        Column(\"Symbol\", String(50), primary_key=True, nullable=False),\n",
    "                        Column(\"Name\", String(100), primary_key=False, nullable=True),\n",
    "                        Column(\"Country\", String(50),primary_key=True, nullable=False),\n",
    "                        Column(\"Industry\", String(100), nullable=True),\n",
    "                        Column(\"Sector\", String(100), nullable=True),\n",
    "                        Column(\"created_date\", Date, nullable=True),\n",
    "                        Column(\"last_update_date\", Date, nullable=True),\n",
    "                        Column(\"create_id\", String(100), nullable=True)\n",
    "                        )\n",
    "columns_to_insert = [\"Symbol\",\"Name\",\"Country\",\"Industry\",\"Sector\"]\n",
    "df = pd.read_csv(\"data/nasdaq_screener_1743382889678.csv\",usecols= columns_to_insert,nrows=2)\n",
    "df[\"created_date\"] = datetime.today()\n",
    "df[\"last_update_date\"] = datetime.today()\n",
    "df[\"create_id\"] = \"ONE_TIME_LOAD\"\n",
    "\n",
    "df = clean_df(df)\n",
    "total_records = len(df)\n",
    "records = df.to_dict(\"records\")\n",
    "print(records)\n",
    "\n",
    "connection_string = f\"mssql+pymssql://{username}:{password}@{server}/{database}?login_timeout=120&timeout=300\"\n",
    "engine = create_engine(connection_string)\n",
    "\n",
    "with engine.begin() as connection:\n",
    "    for i in range(0,total_records,1000):\n",
    "        chunk = records[i:i+1000]\n",
    "        result = connection.execute(all_listed_stocks.insert().values(chunk))\n",
    "        print(f\"number of rows inserted {result.rowcount}\")\n",
    "\n",
    "\n"
   ]
  },
  {
   "cell_type": "markdown",
   "id": "d5ac37af",
   "metadata": {},
   "source": [
    "-s a2663430-8c4a-45ec-a062-881eb856f247 -g stock-dashboard -a StockDataCollector -m pyodbc -v 5.2.0"
   ]
  },
  {
   "cell_type": "code",
   "execution_count": 35,
   "id": "ef4b19a2",
   "metadata": {},
   "outputs": [
    {
     "data": {
      "text/html": [
       "<div>\n",
       "<style scoped>\n",
       "    .dataframe tbody tr th:only-of-type {\n",
       "        vertical-align: middle;\n",
       "    }\n",
       "\n",
       "    .dataframe tbody tr th {\n",
       "        vertical-align: top;\n",
       "    }\n",
       "\n",
       "    .dataframe thead th {\n",
       "        text-align: right;\n",
       "    }\n",
       "</style>\n",
       "<table border=\"1\" class=\"dataframe\">\n",
       "  <thead>\n",
       "    <tr style=\"text-align: right;\">\n",
       "      <th></th>\n",
       "      <th>Symbol</th>\n",
       "      <th>Name</th>\n",
       "      <th>Country</th>\n",
       "      <th>Sector</th>\n",
       "      <th>Industry</th>\n",
       "      <th>created_date</th>\n",
       "      <th>last_update_date</th>\n",
       "      <th>create_id</th>\n",
       "    </tr>\n",
       "  </thead>\n",
       "  <tbody>\n",
       "    <tr>\n",
       "      <th>0</th>\n",
       "      <td>AACBU</td>\n",
       "      <td>Artius II Acquisition Inc. Units</td>\n",
       "      <td>United States</td>\n",
       "      <td>Finance</td>\n",
       "      <td>Blank Checks</td>\n",
       "      <td>2025-04-07 20:20:19.611552</td>\n",
       "      <td>2025-04-07 20:20:19.611552</td>\n",
       "      <td>ONE_TIME_LOAD</td>\n",
       "    </tr>\n",
       "    <tr>\n",
       "      <th>1</th>\n",
       "      <td>AAL</td>\n",
       "      <td>American Airlines Group Inc. Common Stock</td>\n",
       "      <td>United States</td>\n",
       "      <td>Consumer Discretionary</td>\n",
       "      <td>Air Freight/Delivery Services</td>\n",
       "      <td>2025-04-07 20:20:19.611552</td>\n",
       "      <td>2025-04-07 20:20:19.611552</td>\n",
       "      <td>ONE_TIME_LOAD</td>\n",
       "    </tr>\n",
       "  </tbody>\n",
       "</table>\n",
       "</div>"
      ],
      "text/plain": [
       "  Symbol                                       Name        Country  \\\n",
       "0  AACBU           Artius II Acquisition Inc. Units  United States   \n",
       "1    AAL  American Airlines Group Inc. Common Stock  United States   \n",
       "\n",
       "                   Sector                       Industry  \\\n",
       "0                 Finance                   Blank Checks   \n",
       "1  Consumer Discretionary  Air Freight/Delivery Services   \n",
       "\n",
       "                created_date           last_update_date      create_id  \n",
       "0 2025-04-07 20:20:19.611552 2025-04-07 20:20:19.611552  ONE_TIME_LOAD  \n",
       "1 2025-04-07 20:20:19.611552 2025-04-07 20:20:19.611552  ONE_TIME_LOAD  "
      ]
     },
     "execution_count": 35,
     "metadata": {},
     "output_type": "execute_result"
    }
   ],
   "source": [
    "df"
   ]
  },
  {
   "cell_type": "code",
   "execution_count": 36,
   "id": "6a581180",
   "metadata": {},
   "outputs": [],
   "source": [
    "df1=df[[\"Symbol\",\"Name\",\"Sector\",\"Industry\"]]\n",
    "\n",
    "records = df1.to_dict(\"records\")\n",
    "\n"
   ]
  },
  {
   "cell_type": "code",
   "execution_count": 37,
   "id": "7b8295cd",
   "metadata": {},
   "outputs": [
    {
     "data": {
      "text/plain": [
       "[{'Symbol': 'AACBU',\n",
       "  'Name': 'Artius II Acquisition Inc. Units',\n",
       "  'Sector': 'Finance',\n",
       "  'Industry': 'Blank Checks'},\n",
       " {'Symbol': 'AAL',\n",
       "  'Name': 'American Airlines Group Inc. Common Stock',\n",
       "  'Sector': 'Consumer Discretionary',\n",
       "  'Industry': 'Air Freight/Delivery Services'}]"
      ]
     },
     "execution_count": 37,
     "metadata": {},
     "output_type": "execute_result"
    }
   ],
   "source": [
    "records"
   ]
  },
  {
   "cell_type": "code",
   "execution_count": 38,
   "id": "a83b948a",
   "metadata": {},
   "outputs": [
    {
     "data": {
      "text/html": [
       "<div>\n",
       "<style scoped>\n",
       "    .dataframe tbody tr th:only-of-type {\n",
       "        vertical-align: middle;\n",
       "    }\n",
       "\n",
       "    .dataframe tbody tr th {\n",
       "        vertical-align: top;\n",
       "    }\n",
       "\n",
       "    .dataframe thead th {\n",
       "        text-align: right;\n",
       "    }\n",
       "</style>\n",
       "<table border=\"1\" class=\"dataframe\">\n",
       "  <thead>\n",
       "    <tr style=\"text-align: right;\">\n",
       "      <th></th>\n",
       "      <th>Symbol</th>\n",
       "      <th>Name</th>\n",
       "      <th>Country</th>\n",
       "      <th>Sector</th>\n",
       "      <th>Industry</th>\n",
       "      <th>created_date</th>\n",
       "      <th>last_update_date</th>\n",
       "      <th>create_id</th>\n",
       "    </tr>\n",
       "  </thead>\n",
       "  <tbody>\n",
       "    <tr>\n",
       "      <th>0</th>\n",
       "      <td>AACBU</td>\n",
       "      <td>Artius II Acquisition Inc. Units</td>\n",
       "      <td>United States</td>\n",
       "      <td>Finance</td>\n",
       "      <td>Blank Checks</td>\n",
       "      <td>2025-04-07 20:20:19.611552</td>\n",
       "      <td>2025-04-07 20:20:19.611552</td>\n",
       "      <td>ONE_TIME_LOAD</td>\n",
       "    </tr>\n",
       "    <tr>\n",
       "      <th>1</th>\n",
       "      <td>AAL</td>\n",
       "      <td>American Airlines Group Inc. Common Stock</td>\n",
       "      <td>United States</td>\n",
       "      <td>Consumer Discretionary</td>\n",
       "      <td>Air Freight/Delivery Services</td>\n",
       "      <td>2025-04-07 20:20:19.611552</td>\n",
       "      <td>2025-04-07 20:20:19.611552</td>\n",
       "      <td>ONE_TIME_LOAD</td>\n",
       "    </tr>\n",
       "  </tbody>\n",
       "</table>\n",
       "</div>"
      ],
      "text/plain": [
       "  Symbol                                       Name        Country  \\\n",
       "0  AACBU           Artius II Acquisition Inc. Units  United States   \n",
       "1    AAL  American Airlines Group Inc. Common Stock  United States   \n",
       "\n",
       "                   Sector                       Industry  \\\n",
       "0                 Finance                   Blank Checks   \n",
       "1  Consumer Discretionary  Air Freight/Delivery Services   \n",
       "\n",
       "                created_date           last_update_date      create_id  \n",
       "0 2025-04-07 20:20:19.611552 2025-04-07 20:20:19.611552  ONE_TIME_LOAD  \n",
       "1 2025-04-07 20:20:19.611552 2025-04-07 20:20:19.611552  ONE_TIME_LOAD  "
      ]
     },
     "execution_count": 38,
     "metadata": {},
     "output_type": "execute_result"
    }
   ],
   "source": [
    "df.head(5)"
   ]
  }
 ],
 "metadata": {
  "kernelspec": {
   "display_name": "custom",
   "language": "python",
   "name": "python3"
  },
  "language_info": {
   "codemirror_mode": {
    "name": "ipython",
    "version": 3
   },
   "file_extension": ".py",
   "mimetype": "text/x-python",
   "name": "python",
   "nbconvert_exporter": "python",
   "pygments_lexer": "ipython3",
   "version": "3.9.19"
  }
 },
 "nbformat": 4,
 "nbformat_minor": 5
}
